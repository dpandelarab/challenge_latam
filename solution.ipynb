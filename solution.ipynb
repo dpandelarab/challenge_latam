{
 "cells": [
  {
   "attachments": {},
   "cell_type": "markdown",
   "metadata": {},
   "source": [
    "# Challenge Latam"
   ]
  },
  {
   "cell_type": "code",
   "execution_count": 60,
   "metadata": {},
   "outputs": [
    {
     "name": "stdout",
     "output_type": "stream",
     "text": [
      "Requirement already satisfied: pandas==1.3.3 in c:\\programdata\\anaconda3\\lib\\site-packages (from -r requirements.txt (line 1)) (1.3.3)\n",
      "Requirement already satisfied: numpy==1.21.2 in c:\\programdata\\anaconda3\\lib\\site-packages (from -r requirements.txt (line 2)) (1.21.2)\n",
      "Requirement already satisfied: xgboost==1.6.2 in c:\\programdata\\anaconda3\\lib\\site-packages (from -r requirements.txt (line 3)) (1.6.2)\n",
      "Requirement already satisfied: seaborn==0.11.2 in c:\\programdata\\anaconda3\\lib\\site-packages (from -r requirements.txt (line 4)) (0.11.2)\n",
      "Requirement already satisfied: python-dateutil>=2.7.3 in c:\\programdata\\anaconda3\\lib\\site-packages (from pandas==1.3.3->-r requirements.txt (line 1)) (2.8.2)\n",
      "Requirement already satisfied: pytz>=2017.3 in c:\\programdata\\anaconda3\\lib\\site-packages (from pandas==1.3.3->-r requirements.txt (line 1)) (2021.3)\n",
      "Requirement already satisfied: scipy in c:\\programdata\\anaconda3\\lib\\site-packages (from xgboost==1.6.2->-r requirements.txt (line 3)) (1.7.1)"
     ]
    },
    {
     "name": "stderr",
     "output_type": "stream",
     "text": [
      "WARNING: Ignoring invalid distribution -eaborn (c:\\programdata\\anaconda3\\lib\\site-packages)\n",
      "WARNING: Ignoring invalid distribution -eaborn (c:\\programdata\\anaconda3\\lib\\site-packages)\n",
      "WARNING: Ignoring invalid distribution -eaborn (c:\\programdata\\anaconda3\\lib\\site-packages)\n",
      "WARNING: Ignoring invalid distribution -eaborn (c:\\programdata\\anaconda3\\lib\\site-packages)\n",
      "WARNING: Ignoring invalid distribution -eaborn (c:\\programdata\\anaconda3\\lib\\site-packages)\n",
      "WARNING: Ignoring invalid distribution -eaborn (c:\\programdata\\anaconda3\\lib\\site-packages)\n"
     ]
    },
    {
     "name": "stdout",
     "output_type": "stream",
     "text": [
      "\n",
      "Requirement already satisfied: matplotlib>=2.2 in c:\\programdata\\anaconda3\\lib\\site-packages (from seaborn==0.11.2->-r requirements.txt (line 4)) (3.4.3)\n",
      "Requirement already satisfied: kiwisolver>=1.0.1 in c:\\programdata\\anaconda3\\lib\\site-packages (from matplotlib>=2.2->seaborn==0.11.2->-r requirements.txt (line 4)) (1.3.1)\n",
      "Requirement already satisfied: pillow>=6.2.0 in c:\\programdata\\anaconda3\\lib\\site-packages (from matplotlib>=2.2->seaborn==0.11.2->-r requirements.txt (line 4)) (8.4.0)\n",
      "Requirement already satisfied: pyparsing>=2.2.1 in c:\\programdata\\anaconda3\\lib\\site-packages (from matplotlib>=2.2->seaborn==0.11.2->-r requirements.txt (line 4)) (2.4.7)\n",
      "Requirement already satisfied: cycler>=0.10 in c:\\programdata\\anaconda3\\lib\\site-packages (from matplotlib>=2.2->seaborn==0.11.2->-r requirements.txt (line 4)) (0.10.0)\n",
      "Requirement already satisfied: six in c:\\programdata\\anaconda3\\lib\\site-packages (from cycler>=0.10->matplotlib>=2.2->seaborn==0.11.2->-r requirements.txt (line 4)) (1.16.0)\n"
     ]
    }
   ],
   "source": [
    "#Ejecutar esta linea de comando para verificar que la versión de las librerías correspondan a los resultados expuestos en este notebook\n",
    "\n",
    "!pip install -r requirements.txt"
   ]
  },
  {
   "cell_type": "code",
   "execution_count": 1,
   "metadata": {},
   "outputs": [],
   "source": [
    "#Importar librerías utilizadas\n",
    "import pandas as pd\n",
    "import numpy as np\n",
    "import seaborn as sns\n",
    "import matplotlib.pyplot as plt\n",
    "from datetime import datetime,date,timedelta,time\n",
    "\n",
    "%matplotlib inline\n",
    "seed = 1234\n",
    "\n",
    "np.random.seed(seed)"
   ]
  },
  {
   "cell_type": "code",
   "execution_count": 2,
   "metadata": {},
   "outputs": [],
   "source": [
    "def get_data(filename):\n",
    "    \"\"\"Get data from the challenge csv file.\n",
    "\n",
    "    Args:\n",
    "        filename (str): location of the file\n",
    "    \"\"\"\n",
    "    data = pd.read_csv(filename,infer_datetime_format=True,low_memory=False)\n",
    "    data['Fecha-I'] = pd.to_datetime(data['Fecha-I'])\n",
    "    data['Fecha-O'] = pd.to_datetime(data['Fecha-O'])\n",
    "\n",
    "    return data"
   ]
  },
  {
   "cell_type": "code",
   "execution_count": 3,
   "metadata": {},
   "outputs": [
    {
     "data": {
      "text/html": [
       "<div>\n",
       "<style scoped>\n",
       "    .dataframe tbody tr th:only-of-type {\n",
       "        vertical-align: middle;\n",
       "    }\n",
       "\n",
       "    .dataframe tbody tr th {\n",
       "        vertical-align: top;\n",
       "    }\n",
       "\n",
       "    .dataframe thead th {\n",
       "        text-align: right;\n",
       "    }\n",
       "</style>\n",
       "<table border=\"1\" class=\"dataframe\">\n",
       "  <thead>\n",
       "    <tr style=\"text-align: right;\">\n",
       "      <th></th>\n",
       "      <th>Fecha-I</th>\n",
       "      <th>Vlo-I</th>\n",
       "      <th>Ori-I</th>\n",
       "      <th>Des-I</th>\n",
       "      <th>Emp-I</th>\n",
       "      <th>Fecha-O</th>\n",
       "      <th>Vlo-O</th>\n",
       "      <th>Ori-O</th>\n",
       "      <th>Des-O</th>\n",
       "      <th>Emp-O</th>\n",
       "      <th>DIA</th>\n",
       "      <th>MES</th>\n",
       "      <th>AÑO</th>\n",
       "      <th>DIANOM</th>\n",
       "      <th>TIPOVUELO</th>\n",
       "      <th>OPERA</th>\n",
       "      <th>SIGLAORI</th>\n",
       "      <th>SIGLADES</th>\n",
       "    </tr>\n",
       "  </thead>\n",
       "  <tbody>\n",
       "    <tr>\n",
       "      <th>0</th>\n",
       "      <td>2017-01-01 23:30:00</td>\n",
       "      <td>226</td>\n",
       "      <td>SCEL</td>\n",
       "      <td>KMIA</td>\n",
       "      <td>AAL</td>\n",
       "      <td>2017-01-01 23:33:00</td>\n",
       "      <td>226</td>\n",
       "      <td>SCEL</td>\n",
       "      <td>KMIA</td>\n",
       "      <td>AAL</td>\n",
       "      <td>1</td>\n",
       "      <td>1</td>\n",
       "      <td>2017</td>\n",
       "      <td>Domingo</td>\n",
       "      <td>I</td>\n",
       "      <td>American Airlines</td>\n",
       "      <td>Santiago</td>\n",
       "      <td>Miami</td>\n",
       "    </tr>\n",
       "    <tr>\n",
       "      <th>1</th>\n",
       "      <td>2017-01-02 23:30:00</td>\n",
       "      <td>226</td>\n",
       "      <td>SCEL</td>\n",
       "      <td>KMIA</td>\n",
       "      <td>AAL</td>\n",
       "      <td>2017-01-02 23:39:00</td>\n",
       "      <td>226</td>\n",
       "      <td>SCEL</td>\n",
       "      <td>KMIA</td>\n",
       "      <td>AAL</td>\n",
       "      <td>2</td>\n",
       "      <td>1</td>\n",
       "      <td>2017</td>\n",
       "      <td>Lunes</td>\n",
       "      <td>I</td>\n",
       "      <td>American Airlines</td>\n",
       "      <td>Santiago</td>\n",
       "      <td>Miami</td>\n",
       "    </tr>\n",
       "    <tr>\n",
       "      <th>2</th>\n",
       "      <td>2017-01-03 23:30:00</td>\n",
       "      <td>226</td>\n",
       "      <td>SCEL</td>\n",
       "      <td>KMIA</td>\n",
       "      <td>AAL</td>\n",
       "      <td>2017-01-03 23:39:00</td>\n",
       "      <td>226</td>\n",
       "      <td>SCEL</td>\n",
       "      <td>KMIA</td>\n",
       "      <td>AAL</td>\n",
       "      <td>3</td>\n",
       "      <td>1</td>\n",
       "      <td>2017</td>\n",
       "      <td>Martes</td>\n",
       "      <td>I</td>\n",
       "      <td>American Airlines</td>\n",
       "      <td>Santiago</td>\n",
       "      <td>Miami</td>\n",
       "    </tr>\n",
       "    <tr>\n",
       "      <th>3</th>\n",
       "      <td>2017-01-04 23:30:00</td>\n",
       "      <td>226</td>\n",
       "      <td>SCEL</td>\n",
       "      <td>KMIA</td>\n",
       "      <td>AAL</td>\n",
       "      <td>2017-01-04 23:33:00</td>\n",
       "      <td>226</td>\n",
       "      <td>SCEL</td>\n",
       "      <td>KMIA</td>\n",
       "      <td>AAL</td>\n",
       "      <td>4</td>\n",
       "      <td>1</td>\n",
       "      <td>2017</td>\n",
       "      <td>Miercoles</td>\n",
       "      <td>I</td>\n",
       "      <td>American Airlines</td>\n",
       "      <td>Santiago</td>\n",
       "      <td>Miami</td>\n",
       "    </tr>\n",
       "    <tr>\n",
       "      <th>4</th>\n",
       "      <td>2017-01-05 23:30:00</td>\n",
       "      <td>226</td>\n",
       "      <td>SCEL</td>\n",
       "      <td>KMIA</td>\n",
       "      <td>AAL</td>\n",
       "      <td>2017-01-05 23:28:00</td>\n",
       "      <td>226</td>\n",
       "      <td>SCEL</td>\n",
       "      <td>KMIA</td>\n",
       "      <td>AAL</td>\n",
       "      <td>5</td>\n",
       "      <td>1</td>\n",
       "      <td>2017</td>\n",
       "      <td>Jueves</td>\n",
       "      <td>I</td>\n",
       "      <td>American Airlines</td>\n",
       "      <td>Santiago</td>\n",
       "      <td>Miami</td>\n",
       "    </tr>\n",
       "  </tbody>\n",
       "</table>\n",
       "</div>"
      ],
      "text/plain": [
       "              Fecha-I Vlo-I Ori-I Des-I Emp-I             Fecha-O Vlo-O Ori-O  \\\n",
       "0 2017-01-01 23:30:00   226  SCEL  KMIA   AAL 2017-01-01 23:33:00   226  SCEL   \n",
       "1 2017-01-02 23:30:00   226  SCEL  KMIA   AAL 2017-01-02 23:39:00   226  SCEL   \n",
       "2 2017-01-03 23:30:00   226  SCEL  KMIA   AAL 2017-01-03 23:39:00   226  SCEL   \n",
       "3 2017-01-04 23:30:00   226  SCEL  KMIA   AAL 2017-01-04 23:33:00   226  SCEL   \n",
       "4 2017-01-05 23:30:00   226  SCEL  KMIA   AAL 2017-01-05 23:28:00   226  SCEL   \n",
       "\n",
       "  Des-O Emp-O  DIA  MES   AÑO     DIANOM TIPOVUELO              OPERA  \\\n",
       "0  KMIA   AAL    1    1  2017    Domingo         I  American Airlines   \n",
       "1  KMIA   AAL    2    1  2017      Lunes         I  American Airlines   \n",
       "2  KMIA   AAL    3    1  2017     Martes         I  American Airlines   \n",
       "3  KMIA   AAL    4    1  2017  Miercoles         I  American Airlines   \n",
       "4  KMIA   AAL    5    1  2017     Jueves         I  American Airlines   \n",
       "\n",
       "   SIGLAORI SIGLADES  \n",
       "0  Santiago    Miami  \n",
       "1  Santiago    Miami  \n",
       "2  Santiago    Miami  \n",
       "3  Santiago    Miami  \n",
       "4  Santiago    Miami  "
      ]
     },
     "execution_count": 3,
     "metadata": {},
     "output_type": "execute_result"
    }
   ],
   "source": [
    "#Cargar la data base\n",
    "df = get_data('dataset_SCL.csv')\n",
    "df.head()"
   ]
  },
  {
   "cell_type": "markdown",
   "metadata": {},
   "source": [
    "### 1. ¿Cómo se distribuyen los datos? ¿Qué te llama la atención o cuál es tu conclusión sobre esto?"
   ]
  },
  {
   "cell_type": "code",
   "execution_count": 4,
   "metadata": {},
   "outputs": [
    {
     "data": {
      "text/plain": [
       "Fecha-I      53252\n",
       "Vlo-I          584\n",
       "Ori-I            1\n",
       "Des-I           64\n",
       "Emp-I           30\n",
       "Fecha-O      62774\n",
       "Vlo-O          861\n",
       "Ori-O            1\n",
       "Des-O           63\n",
       "Emp-O           32\n",
       "DIA             31\n",
       "MES             12\n",
       "AÑO              2\n",
       "DIANOM           7\n",
       "TIPOVUELO        2\n",
       "OPERA           23\n",
       "SIGLAORI         1\n",
       "SIGLADES        62\n",
       "dtype: int64"
      ]
     },
     "execution_count": 4,
     "metadata": {},
     "output_type": "execute_result"
    }
   ],
   "source": [
    "#Cuenta de valores unicos por variable\n",
    "df.nunique()"
   ]
  },
  {
   "cell_type": "code",
   "execution_count": 5,
   "metadata": {},
   "outputs": [
    {
     "name": "stdout",
     "output_type": "stream",
     "text": [
      "DIANOM\n",
      "Domingo       9796\n",
      "Jueves       10251\n",
      "Lunes        10131\n",
      "Martes        9662\n",
      "Miercoles     9722\n",
      "Sabado        8352\n",
      "Viernes      10292\n",
      "Name: DIANOM, dtype: int64\n",
      "TIPOVUELO\n",
      "I    31240\n",
      "N    36966\n",
      "Name: TIPOVUELO, dtype: int64\n"
     ]
    }
   ],
   "source": [
    "#Cuenta de valores por categoría\n",
    "print(df.groupby('DIANOM').DIANOM.count())\n",
    "print(df.groupby('TIPOVUELO').TIPOVUELO.count())"
   ]
  },
  {
   "cell_type": "code",
   "execution_count": 6,
   "metadata": {},
   "outputs": [
    {
     "name": "stdout",
     "output_type": "stream",
     "text": [
      "OPERA\n",
      "Grupo LATAM                 40892\n",
      "Sky Airline                 14298\n",
      "Aerolineas Argentinas        1949\n",
      "Copa Air                     1850\n",
      "Latin American Wings         1674\n",
      "Avianca                      1152\n",
      "JetSmart SPA                 1095\n",
      "Gol Trans                     806\n",
      "American Airlines             757\n",
      "Air Canada                    565\n",
      "Iberia                        362\n",
      "Delta Air                     358\n",
      "Air France                    358\n",
      "Aeromexico                    351\n",
      "United Airlines               335\n",
      "Oceanair Linhas Aereas        279\n",
      "Alitalia                      259\n",
      "K.L.M.                        251\n",
      "British Airways               205\n",
      "Qantas Airways                195\n",
      "Lacsa                          92\n",
      "Austral                        74\n",
      "Plus Ultra Lineas Aereas       49\n",
      "Name: OPERA, dtype: int64\n"
     ]
    }
   ],
   "source": [
    "print(df.groupby('OPERA').OPERA.count().sort_values(ascending=False))"
   ]
  },
  {
   "cell_type": "code",
   "execution_count": 7,
   "metadata": {},
   "outputs": [
    {
     "name": "stdout",
     "output_type": "stream",
     "text": [
      "OPERA\n",
      "Grupo LATAM                 40892\n",
      "Sky Airline                 14298\n",
      "Aerolineas Argentinas        1949\n",
      "Copa Air                     1850\n",
      "Latin American Wings         1674\n",
      "Avianca                      1152\n",
      "JetSmart SPA                 1095\n",
      "Gol Trans                     806\n",
      "American Airlines             757\n",
      "Air Canada                    565\n",
      "Iberia                        362\n",
      "Delta Air                     358\n",
      "Air France                    358\n",
      "Aeromexico                    351\n",
      "United Airlines               335\n",
      "Oceanair Linhas Aereas        279\n",
      "Alitalia                      259\n",
      "K.L.M.                        251\n",
      "British Airways               205\n",
      "Qantas Airways                195\n",
      "Lacsa                          92\n",
      "Austral                        74\n",
      "Plus Ultra Lineas Aereas       49\n",
      "Name: OPERA, dtype: int64\n"
     ]
    }
   ],
   "source": [
    "print(df.groupby('OPERA').OPERA.count().sort_values(ascending=False))"
   ]
  },
  {
   "cell_type": "code",
   "execution_count": 8,
   "metadata": {},
   "outputs": [
    {
     "data": {
      "text/html": [
       "<div>\n",
       "<style scoped>\n",
       "    .dataframe tbody tr th:only-of-type {\n",
       "        vertical-align: middle;\n",
       "    }\n",
       "\n",
       "    .dataframe tbody tr th {\n",
       "        vertical-align: top;\n",
       "    }\n",
       "\n",
       "    .dataframe thead th {\n",
       "        text-align: right;\n",
       "    }\n",
       "</style>\n",
       "<table border=\"1\" class=\"dataframe\">\n",
       "  <thead>\n",
       "    <tr style=\"text-align: right;\">\n",
       "      <th>TIPOVUELO</th>\n",
       "      <th>I</th>\n",
       "      <th>N</th>\n",
       "    </tr>\n",
       "    <tr>\n",
       "      <th>OPERA</th>\n",
       "      <th></th>\n",
       "      <th></th>\n",
       "    </tr>\n",
       "  </thead>\n",
       "  <tbody>\n",
       "    <tr>\n",
       "      <th>Aerolineas Argentinas</th>\n",
       "      <td>1949.0</td>\n",
       "      <td>NaN</td>\n",
       "    </tr>\n",
       "    <tr>\n",
       "      <th>Aeromexico</th>\n",
       "      <td>351.0</td>\n",
       "      <td>NaN</td>\n",
       "    </tr>\n",
       "    <tr>\n",
       "      <th>Air Canada</th>\n",
       "      <td>565.0</td>\n",
       "      <td>NaN</td>\n",
       "    </tr>\n",
       "    <tr>\n",
       "      <th>Air France</th>\n",
       "      <td>358.0</td>\n",
       "      <td>NaN</td>\n",
       "    </tr>\n",
       "    <tr>\n",
       "      <th>Alitalia</th>\n",
       "      <td>259.0</td>\n",
       "      <td>NaN</td>\n",
       "    </tr>\n",
       "    <tr>\n",
       "      <th>American Airlines</th>\n",
       "      <td>757.0</td>\n",
       "      <td>NaN</td>\n",
       "    </tr>\n",
       "    <tr>\n",
       "      <th>Austral</th>\n",
       "      <td>74.0</td>\n",
       "      <td>NaN</td>\n",
       "    </tr>\n",
       "    <tr>\n",
       "      <th>Avianca</th>\n",
       "      <td>1152.0</td>\n",
       "      <td>NaN</td>\n",
       "    </tr>\n",
       "    <tr>\n",
       "      <th>British Airways</th>\n",
       "      <td>205.0</td>\n",
       "      <td>NaN</td>\n",
       "    </tr>\n",
       "    <tr>\n",
       "      <th>Copa Air</th>\n",
       "      <td>1850.0</td>\n",
       "      <td>NaN</td>\n",
       "    </tr>\n",
       "    <tr>\n",
       "      <th>Delta Air</th>\n",
       "      <td>358.0</td>\n",
       "      <td>NaN</td>\n",
       "    </tr>\n",
       "    <tr>\n",
       "      <th>Gol Trans</th>\n",
       "      <td>806.0</td>\n",
       "      <td>NaN</td>\n",
       "    </tr>\n",
       "    <tr>\n",
       "      <th>Grupo LATAM</th>\n",
       "      <td>17149.0</td>\n",
       "      <td>23743.0</td>\n",
       "    </tr>\n",
       "    <tr>\n",
       "      <th>Iberia</th>\n",
       "      <td>362.0</td>\n",
       "      <td>NaN</td>\n",
       "    </tr>\n",
       "    <tr>\n",
       "      <th>JetSmart SPA</th>\n",
       "      <td>6.0</td>\n",
       "      <td>1089.0</td>\n",
       "    </tr>\n",
       "    <tr>\n",
       "      <th>K.L.M.</th>\n",
       "      <td>251.0</td>\n",
       "      <td>NaN</td>\n",
       "    </tr>\n",
       "    <tr>\n",
       "      <th>Lacsa</th>\n",
       "      <td>92.0</td>\n",
       "      <td>NaN</td>\n",
       "    </tr>\n",
       "    <tr>\n",
       "      <th>Latin American Wings</th>\n",
       "      <td>1038.0</td>\n",
       "      <td>636.0</td>\n",
       "    </tr>\n",
       "    <tr>\n",
       "      <th>Oceanair Linhas Aereas</th>\n",
       "      <td>279.0</td>\n",
       "      <td>NaN</td>\n",
       "    </tr>\n",
       "    <tr>\n",
       "      <th>Plus Ultra Lineas Aereas</th>\n",
       "      <td>49.0</td>\n",
       "      <td>NaN</td>\n",
       "    </tr>\n",
       "    <tr>\n",
       "      <th>Qantas Airways</th>\n",
       "      <td>195.0</td>\n",
       "      <td>NaN</td>\n",
       "    </tr>\n",
       "    <tr>\n",
       "      <th>Sky Airline</th>\n",
       "      <td>2800.0</td>\n",
       "      <td>11498.0</td>\n",
       "    </tr>\n",
       "    <tr>\n",
       "      <th>United Airlines</th>\n",
       "      <td>335.0</td>\n",
       "      <td>NaN</td>\n",
       "    </tr>\n",
       "  </tbody>\n",
       "</table>\n",
       "</div>"
      ],
      "text/plain": [
       "TIPOVUELO                       I        N\n",
       "OPERA                                     \n",
       "Aerolineas Argentinas      1949.0      NaN\n",
       "Aeromexico                  351.0      NaN\n",
       "Air Canada                  565.0      NaN\n",
       "Air France                  358.0      NaN\n",
       "Alitalia                    259.0      NaN\n",
       "American Airlines           757.0      NaN\n",
       "Austral                      74.0      NaN\n",
       "Avianca                    1152.0      NaN\n",
       "British Airways             205.0      NaN\n",
       "Copa Air                   1850.0      NaN\n",
       "Delta Air                   358.0      NaN\n",
       "Gol Trans                   806.0      NaN\n",
       "Grupo LATAM               17149.0  23743.0\n",
       "Iberia                      362.0      NaN\n",
       "JetSmart SPA                  6.0   1089.0\n",
       "K.L.M.                      251.0      NaN\n",
       "Lacsa                        92.0      NaN\n",
       "Latin American Wings       1038.0    636.0\n",
       "Oceanair Linhas Aereas      279.0      NaN\n",
       "Plus Ultra Lineas Aereas     49.0      NaN\n",
       "Qantas Airways              195.0      NaN\n",
       "Sky Airline                2800.0  11498.0\n",
       "United Airlines             335.0      NaN"
      ]
     },
     "execution_count": 8,
     "metadata": {},
     "output_type": "execute_result"
    }
   ],
   "source": [
    "df.groupby(['OPERA','TIPOVUELO']).OPERA.count().unstack(level=1)"
   ]
  },
  {
   "cell_type": "code",
   "execution_count": 9,
   "metadata": {},
   "outputs": [
    {
     "data": {
      "image/png": "[encoded data removed]",
      "text/plain": [
       "<Figure size 432x288 with 1 Axes>"
      ]
     },
     "metadata": {
      "needs_background": "light"
     },
     "output_type": "display_data"
    },
    {
     "data": {
      "image/png": "[encoded data removed]",
      "text/plain": [
       "<Figure size 432x288 with 1 Axes>"
      ]
     },
     "metadata": {
      "needs_background": "light"
     },
     "output_type": "display_data"
    },
    {
     "data": {
      "image/png": "[encoded data removed]",
      "text/plain": [
       "<Figure size 432x288 with 1 Axes>"
      ]
     },
     "metadata": {
      "needs_background": "light"
     },
     "output_type": "display_data"
    },
    {
     "data": {
      "image/png": "[encoded data removed]",
      "text/plain": [
       "<Figure size 432x288 with 1 Axes>"
      ]
     },
     "metadata": {
      "needs_background": "light"
     },
     "output_type": "display_data"
    },
    {
     "data": {
      "image/png": "[encoded data removed]",
      "text/plain": [
       "<Figure size 432x288 with 1 Axes>"
      ]
     },
     "metadata": {
      "needs_background": "light"
     },
     "output_type": "display_data"
    }
   ],
   "source": [
    "#Algunos gráficos descriptivos de la data\n",
    "\n",
    "df.groupby(['TIPOVUELO','DIANOM']).count().iloc[:,0].unstack(level=0).plot(kind='bar',title='Observaciones por tipo de vuelo y dia de la semana')\n",
    "plt.show()\n",
    "df.groupby(['TIPOVUELO','OPERA']).count().iloc[:,0].unstack(level=0).sort_values(by='I',ascending=False).plot(kind='bar',title='Observaciones por tipo de vuelo y aerolinea que opera')\n",
    "plt.show()\n",
    "df.query(\"TIPOVUELO == 'N'\").groupby(['OPERA']).count().iloc[:,0].sort_values(ascending=False).plot(kind='bar',title='Observaciones de vuelos nacionales por aerolinea')\n",
    "plt.show()\n",
    "df.query(\"TIPOVUELO == 'N'\").groupby('SIGLADES').count().iloc[:,0].sort_values(ascending=False).plot(kind='bar',title='Observaciones de vuelos nacionales por destino')\n",
    "plt.show()\n",
    "df.query(\"TIPOVUELO == 'I'\").groupby('SIGLADES').count().iloc[:,0].sort_values(ascending=False).plot(kind='bar',title='Observaciones de vuelos internacionales por destino')\n",
    "plt.show()"
   ]
  },
  {
   "attachments": {},
   "cell_type": "markdown",
   "metadata": {},
   "source": [
    "La gran mayoría de las variables presentadas en la base de datos son de tipo categóricas, salvo las relacionadas con la fecha, pero requieren alguna transformación para ser utilizadas en el análisis.\n",
    "\n",
    "Con respecto a estas variables se puede destacar que:\n",
    "\n",
    "Las clases de dia de la semana y tipo de vuelo están relativamente balanceadas, pero al aperturar los tipos de vuelo por aerolinea nos damos cuenta que hay sólo 4 aerolineas que operan vuelos de tipo nacional, mientras que las otras solo operan vuelos de tipo nacional. La aerolinea LATAM tiene la mayor presencia de vuelos en este aeropuerto, le sigue Sky, pero se nota que la clase está desbalanceada, para tener en cuenta.\n",
    "\n",
    "Todas los vuelos se realizan desde el mismo origen, por lo tanto, son sólo despegues. En el caso de los vuelos nacionales, aparecen mayoritariamente los destinos Antofagasta, Calama, Puerto Montt, Concepción e Iquique, mientras que en el caso de los vuelos internacionales se presentan con mayoría vuelos en latinoamerica como Buenos Aires, Lima, Sao Paulo, Ciudad de Panamá, Mendoza, Bogotá y Río de Janeiro."
   ]
  },
  {
   "attachments": {},
   "cell_type": "markdown",
   "metadata": {},
   "source": [
    "### 2. Genera las columnas adicionales y luego expórtelas en un archivo synthetic_features.csv :\n",
    "#### - temporada_alta : 1 si Fecha-I está entre 15-Dic y 3-Mar, o 15-Jul y 31-Jul, o 11-Sep y 30-Sep, 0 si no.\n",
    "#### - dif_min : diferencia en minutos entre Fecha-O y Fecha-I .\n",
    "#### - atraso_15 : 1 si dif_min > 15, 0 si no.\n",
    "#### - periodo_dia : mañana (entre 5:00 y 11:59), tarde (entre 12:00 y 18:59) y noche (entre 19:00 y 4:59), en base a Fecha-I ."
   ]
  },
  {
   "cell_type": "code",
   "execution_count": 10,
   "metadata": {},
   "outputs": [],
   "source": [
    "#Se incluye hasta un día despues, para que considere todos los viajes dentro del ultimo día, ya que se toma por defecto la hora 0:00\n",
    "df['temporada_alta'] = 1*1*((df['Fecha-I'].between(datetime(2017,12,15),datetime(2017,3,4))) | (df['Fecha-I'].between(datetime(2017,7,15),datetime(2017,8,1))) | (df['Fecha-I'].between(datetime(2017,9,11),datetime(2017,10,1))))\n",
    "df['dif_min'] = (df['Fecha-O']-df['Fecha-I'])/np.timedelta64(1, 'm')\n",
    "df['atraso_15'] = 1*(df['dif_min']>15)\n",
    "df['periodo_dia'] = [\"mañana\" if time(5,0,0) <= x.time() <=time(11,59,59) else \"tarde\" \n",
    "                    if time(12,0,0) <= x.time() <= time(18,59,59) else \"noche\" for x in df['Fecha-I']]"
   ]
  },
  {
   "cell_type": "code",
   "execution_count": 11,
   "metadata": {},
   "outputs": [
    {
     "data": {
      "text/html": [
       "<div>\n",
       "<style scoped>\n",
       "    .dataframe tbody tr th:only-of-type {\n",
       "        vertical-align: middle;\n",
       "    }\n",
       "\n",
       "    .dataframe tbody tr th {\n",
       "        vertical-align: top;\n",
       "    }\n",
       "\n",
       "    .dataframe thead th {\n",
       "        text-align: right;\n",
       "    }\n",
       "</style>\n",
       "<table border=\"1\" class=\"dataframe\">\n",
       "  <thead>\n",
       "    <tr style=\"text-align: right;\">\n",
       "      <th></th>\n",
       "      <th>Fecha-I</th>\n",
       "      <th>Vlo-I</th>\n",
       "      <th>Ori-I</th>\n",
       "      <th>Des-I</th>\n",
       "      <th>Emp-I</th>\n",
       "      <th>Fecha-O</th>\n",
       "      <th>Vlo-O</th>\n",
       "      <th>Ori-O</th>\n",
       "      <th>Des-O</th>\n",
       "      <th>Emp-O</th>\n",
       "      <th>...</th>\n",
       "      <th>AÑO</th>\n",
       "      <th>DIANOM</th>\n",
       "      <th>TIPOVUELO</th>\n",
       "      <th>OPERA</th>\n",
       "      <th>SIGLAORI</th>\n",
       "      <th>SIGLADES</th>\n",
       "      <th>temporada_alta</th>\n",
       "      <th>dif_min</th>\n",
       "      <th>atraso_15</th>\n",
       "      <th>periodo_dia</th>\n",
       "    </tr>\n",
       "  </thead>\n",
       "  <tbody>\n",
       "    <tr>\n",
       "      <th>0</th>\n",
       "      <td>2017-01-01 23:30:00</td>\n",
       "      <td>226</td>\n",
       "      <td>SCEL</td>\n",
       "      <td>KMIA</td>\n",
       "      <td>AAL</td>\n",
       "      <td>2017-01-01 23:33:00</td>\n",
       "      <td>226</td>\n",
       "      <td>SCEL</td>\n",
       "      <td>KMIA</td>\n",
       "      <td>AAL</td>\n",
       "      <td>...</td>\n",
       "      <td>2017</td>\n",
       "      <td>Domingo</td>\n",
       "      <td>I</td>\n",
       "      <td>American Airlines</td>\n",
       "      <td>Santiago</td>\n",
       "      <td>Miami</td>\n",
       "      <td>0</td>\n",
       "      <td>3.0</td>\n",
       "      <td>0</td>\n",
       "      <td>noche</td>\n",
       "    </tr>\n",
       "    <tr>\n",
       "      <th>1</th>\n",
       "      <td>2017-01-02 23:30:00</td>\n",
       "      <td>226</td>\n",
       "      <td>SCEL</td>\n",
       "      <td>KMIA</td>\n",
       "      <td>AAL</td>\n",
       "      <td>2017-01-02 23:39:00</td>\n",
       "      <td>226</td>\n",
       "      <td>SCEL</td>\n",
       "      <td>KMIA</td>\n",
       "      <td>AAL</td>\n",
       "      <td>...</td>\n",
       "      <td>2017</td>\n",
       "      <td>Lunes</td>\n",
       "      <td>I</td>\n",
       "      <td>American Airlines</td>\n",
       "      <td>Santiago</td>\n",
       "      <td>Miami</td>\n",
       "      <td>0</td>\n",
       "      <td>9.0</td>\n",
       "      <td>0</td>\n",
       "      <td>noche</td>\n",
       "    </tr>\n",
       "    <tr>\n",
       "      <th>2</th>\n",
       "      <td>2017-01-03 23:30:00</td>\n",
       "      <td>226</td>\n",
       "      <td>SCEL</td>\n",
       "      <td>KMIA</td>\n",
       "      <td>AAL</td>\n",
       "      <td>2017-01-03 23:39:00</td>\n",
       "      <td>226</td>\n",
       "      <td>SCEL</td>\n",
       "      <td>KMIA</td>\n",
       "      <td>AAL</td>\n",
       "      <td>...</td>\n",
       "      <td>2017</td>\n",
       "      <td>Martes</td>\n",
       "      <td>I</td>\n",
       "      <td>American Airlines</td>\n",
       "      <td>Santiago</td>\n",
       "      <td>Miami</td>\n",
       "      <td>0</td>\n",
       "      <td>9.0</td>\n",
       "      <td>0</td>\n",
       "      <td>noche</td>\n",
       "    </tr>\n",
       "    <tr>\n",
       "      <th>3</th>\n",
       "      <td>2017-01-04 23:30:00</td>\n",
       "      <td>226</td>\n",
       "      <td>SCEL</td>\n",
       "      <td>KMIA</td>\n",
       "      <td>AAL</td>\n",
       "      <td>2017-01-04 23:33:00</td>\n",
       "      <td>226</td>\n",
       "      <td>SCEL</td>\n",
       "      <td>KMIA</td>\n",
       "      <td>AAL</td>\n",
       "      <td>...</td>\n",
       "      <td>2017</td>\n",
       "      <td>Miercoles</td>\n",
       "      <td>I</td>\n",
       "      <td>American Airlines</td>\n",
       "      <td>Santiago</td>\n",
       "      <td>Miami</td>\n",
       "      <td>0</td>\n",
       "      <td>3.0</td>\n",
       "      <td>0</td>\n",
       "      <td>noche</td>\n",
       "    </tr>\n",
       "    <tr>\n",
       "      <th>4</th>\n",
       "      <td>2017-01-05 23:30:00</td>\n",
       "      <td>226</td>\n",
       "      <td>SCEL</td>\n",
       "      <td>KMIA</td>\n",
       "      <td>AAL</td>\n",
       "      <td>2017-01-05 23:28:00</td>\n",
       "      <td>226</td>\n",
       "      <td>SCEL</td>\n",
       "      <td>KMIA</td>\n",
       "      <td>AAL</td>\n",
       "      <td>...</td>\n",
       "      <td>2017</td>\n",
       "      <td>Jueves</td>\n",
       "      <td>I</td>\n",
       "      <td>American Airlines</td>\n",
       "      <td>Santiago</td>\n",
       "      <td>Miami</td>\n",
       "      <td>0</td>\n",
       "      <td>-2.0</td>\n",
       "      <td>0</td>\n",
       "      <td>noche</td>\n",
       "    </tr>\n",
       "  </tbody>\n",
       "</table>\n",
       "<p>5 rows × 22 columns</p>\n",
       "</div>"
      ],
      "text/plain": [
       "              Fecha-I Vlo-I Ori-I Des-I Emp-I             Fecha-O Vlo-O Ori-O  \\\n",
       "0 2017-01-01 23:30:00   226  SCEL  KMIA   AAL 2017-01-01 23:33:00   226  SCEL   \n",
       "1 2017-01-02 23:30:00   226  SCEL  KMIA   AAL 2017-01-02 23:39:00   226  SCEL   \n",
       "2 2017-01-03 23:30:00   226  SCEL  KMIA   AAL 2017-01-03 23:39:00   226  SCEL   \n",
       "3 2017-01-04 23:30:00   226  SCEL  KMIA   AAL 2017-01-04 23:33:00   226  SCEL   \n",
       "4 2017-01-05 23:30:00   226  SCEL  KMIA   AAL 2017-01-05 23:28:00   226  SCEL   \n",
       "\n",
       "  Des-O Emp-O  ...   AÑO     DIANOM  TIPOVUELO              OPERA  SIGLAORI  \\\n",
       "0  KMIA   AAL  ...  2017    Domingo          I  American Airlines  Santiago   \n",
       "1  KMIA   AAL  ...  2017      Lunes          I  American Airlines  Santiago   \n",
       "2  KMIA   AAL  ...  2017     Martes          I  American Airlines  Santiago   \n",
       "3  KMIA   AAL  ...  2017  Miercoles          I  American Airlines  Santiago   \n",
       "4  KMIA   AAL  ...  2017     Jueves          I  American Airlines  Santiago   \n",
       "\n",
       "  SIGLADES temporada_alta dif_min  atraso_15  periodo_dia  \n",
       "0    Miami              0     3.0          0        noche  \n",
       "1    Miami              0     9.0          0        noche  \n",
       "2    Miami              0     9.0          0        noche  \n",
       "3    Miami              0     3.0          0        noche  \n",
       "4    Miami              0    -2.0          0        noche  \n",
       "\n",
       "[5 rows x 22 columns]"
      ]
     },
     "execution_count": 11,
     "metadata": {},
     "output_type": "execute_result"
    }
   ],
   "source": [
    "df.head()"
   ]
  },
  {
   "cell_type": "code",
   "execution_count": 12,
   "metadata": {},
   "outputs": [],
   "source": [
    "columnas_synt = ['temporada_alta','dif_min','atraso_15','periodo_dia']\n",
    "df[columnas_synt].to_csv('synthetic_features.csv')"
   ]
  },
  {
   "attachments": {},
   "cell_type": "markdown",
   "metadata": {},
   "source": [
    "### 3. ¿Cómo se compone la tasa de atraso por destino, aerolínea, mes del año, día de la semana, temporada, tipo de vuelo? ¿Qué variables esperarías que más influyeran en predecir atrasos?"
   ]
  },
  {
   "cell_type": "code",
   "execution_count": 13,
   "metadata": {},
   "outputs": [],
   "source": [
    "#Destino\n",
    "tasa_destino = df.groupby('SIGLADES').sum().atraso_15 / df.groupby('SIGLADES').count().atraso_15\n",
    "\n",
    "#Aerolinea\n",
    "tasa_aerolinea = df.groupby('OPERA').sum().atraso_15 / df.groupby('OPERA').count().atraso_15\n",
    "\n",
    "#Mes del año\n",
    "tasa_mesano = df.groupby('MES').sum().atraso_15 / df.groupby('MES').count().atraso_15\n",
    "\n",
    "#dia semana\n",
    "tasa_diasemana =  df.groupby('DIANOM').sum().atraso_15 / df.groupby('DIANOM').count().atraso_15\n",
    "\n",
    "#temporada\n",
    "tasa_temporada = df.groupby('temporada_alta').sum().atraso_15 / df.groupby('temporada_alta').count().atraso_15\n",
    "\n",
    "#tipo de vuelo\n",
    "tasa_tipovuelo = df.groupby('TIPOVUELO').sum().atraso_15 / df.groupby('TIPOVUELO').count().atraso_15"
   ]
  },
  {
   "cell_type": "code",
   "execution_count": 14,
   "metadata": {},
   "outputs": [
    {
     "data": {
      "image/png": "[encoded data removed]",
      "text/plain": [
       "<Figure size 1152x648 with 1 Axes>"
      ]
     },
     "metadata": {
      "needs_background": "light"
     },
     "output_type": "display_data"
    },
    {
     "data": {
      "image/png": "[encoded data removed]",
      "text/plain": [
       "<Figure size 1152x648 with 1 Axes>"
      ]
     },
     "metadata": {
      "needs_background": "light"
     },
     "output_type": "display_data"
    },
    {
     "data": {
      "image/png": "[encoded data removed]",
      "text/plain": [
       "<Figure size 432x288 with 1 Axes>"
      ]
     },
     "metadata": {
      "needs_background": "light"
     },
     "output_type": "display_data"
    },
    {
     "data": {
      "image/png": "[encoded data removed]",
      "text/plain": [
       "<Figure size 432x288 with 1 Axes>"
      ]
     },
     "metadata": {
      "needs_background": "light"
     },
     "output_type": "display_data"
    },
    {
     "data": {
      "image/png": "[encoded data removed]",
      "text/plain": [
       "<Figure size 432x288 with 1 Axes>"
      ]
     },
     "metadata": {
      "needs_background": "light"
     },
     "output_type": "display_data"
    },
    {
     "data": {
      "image/png": "[encoded data removed]",
      "text/plain": [
       "<Figure size 432x288 with 1 Axes>"
      ]
     },
     "metadata": {
      "needs_background": "light"
     },
     "output_type": "display_data"
    }
   ],
   "source": [
    "#Composición de la tasa de atraso por categorías\n",
    "\n",
    "dict_mes = {1:'Ene',2:'Feb',3:'Mar',4:'Abr',5:'May',6:'Jun',7:'Jul',8:'Ago',9:'Sep',10:'Oct',11:'Nov',12:'Dic'}\n",
    "dict_temporada = {0:'Baja',1:'Alta'}\n",
    "\n",
    "tasa_destino.sort_values(ascending=False).plot(kind='bar',figsize=(16,9),title=\"Tasa de atraso por destino\")\n",
    "plt.show()\n",
    "tasa_aerolinea.sort_values(ascending=False).plot(kind='bar',figsize=(16,9),title=\"Tasa de atraso por aerolínea\")\n",
    "plt.show()\n",
    "tasa_mesano.sort_values(ascending=False).rename(index=dict_mes).plot(kind='bar',title=\"Tasa de atraso por mes del año\")\n",
    "plt.show()\n",
    "tasa_diasemana.sort_values(ascending=False).plot(kind='bar',title=\"Tasa de atraso por día de la semana\")\n",
    "plt.show()\n",
    "tasa_temporada.sort_values(ascending=False).rename(index=dict_temporada).plot(kind='bar',title=\"Tasa de atraso por temporada\")\n",
    "plt.show()\n",
    "tasa_tipovuelo.sort_values(ascending=False).plot(kind='bar',title=\"Tasa de atraso por tipo de vuelo\")\n",
    "plt.show()"
   ]
  },
  {
   "attachments": {},
   "cell_type": "markdown",
   "metadata": {},
   "source": [
    "Se esperaría que las variables que tengan mayor correlación con la variable de atraso sean las más indicadas para predecirlas. También podemos suponer que las varables que puedan explicar mayor varianza, es decir, que su comportamiento también sea heterogéneo entre las clases, sea más probable que expliquen mejor el fenómeno en cuestión (atrasos). \n",
    "\n",
    "Bajo este punto de vista, las variables de destino, aerolinea y mes del año se muestran como mejores candidatas que el resto, ya que a simple vista, no se ven diferencias tan importantes en las tasas de atraso en dia de la semana, temporada alta/baja y el tipo de vuelo, en el rango [0.15,0.25].\n",
    "\n",
    "Sin embargo, la interrelación de las variables puede cambiar la percepción a priori, por lo que debe ser evaluado más adelante con un modelo apropiado.\n",
    "\n",
    "También es posible utilizar otras herramientas de feature engineering para seleccionar las mejores candidatos, tales como el feature importance que deriva del xgboost."
   ]
  },
  {
   "attachments": {},
   "cell_type": "markdown",
   "metadata": {},
   "source": [
    "### 4. Entrena uno o varios modelos (usando el/los algoritmo(s) que prefieras) para estimar la probabilidad de atraso de un vuelo. Siéntete libre de generar variables adicionales y/o complementar con variables externas."
   ]
  },
  {
   "cell_type": "code",
   "execution_count": 79,
   "metadata": {},
   "outputs": [],
   "source": [
    "import xgboost as xgb\n",
    "from sklearn.model_selection import train_test_split,KFold,cross_val_score\n",
    "from lazypredict.Supervised import LazyClassifier\n",
    "from sklearn.linear_model import LogisticRegression\n",
    "from sklearn.svm import LinearSVC \n",
    "from sklearn.metrics import roc_auc_score,roc_curve,accuracy_score,f1_score,recall_score,precision_score"
   ]
  },
  {
   "cell_type": "code",
   "execution_count": 16,
   "metadata": {},
   "outputs": [],
   "source": [
    "def one_hot(df,cols):\n",
    "    for col in cols:\n",
    "        dummies = pd.get_dummies(df[col],prefix=col,drop_first=False)\n",
    "        df=pd.concat([df,dummies],axis=1)\n",
    "        del df[col]\n",
    "    return df"
   ]
  },
  {
   "cell_type": "code",
   "execution_count": 17,
   "metadata": {},
   "outputs": [
    {
     "data": {
      "text/html": [
       "<div>\n",
       "<style scoped>\n",
       "    .dataframe tbody tr th:only-of-type {\n",
       "        vertical-align: middle;\n",
       "    }\n",
       "\n",
       "    .dataframe tbody tr th {\n",
       "        vertical-align: top;\n",
       "    }\n",
       "\n",
       "    .dataframe thead th {\n",
       "        text-align: right;\n",
       "    }\n",
       "</style>\n",
       "<table border=\"1\" class=\"dataframe\">\n",
       "  <thead>\n",
       "    <tr style=\"text-align: right;\">\n",
       "      <th></th>\n",
       "      <th>DATE</th>\n",
       "      <th>PRCP</th>\n",
       "      <th>TAVG</th>\n",
       "    </tr>\n",
       "  </thead>\n",
       "  <tbody>\n",
       "    <tr>\n",
       "      <th>0</th>\n",
       "      <td>2017-01-01</td>\n",
       "      <td>0.00</td>\n",
       "      <td>71</td>\n",
       "    </tr>\n",
       "    <tr>\n",
       "      <th>1</th>\n",
       "      <td>2017-01-02</td>\n",
       "      <td>0.00</td>\n",
       "      <td>75</td>\n",
       "    </tr>\n",
       "    <tr>\n",
       "      <th>2</th>\n",
       "      <td>2017-01-03</td>\n",
       "      <td>0.00</td>\n",
       "      <td>71</td>\n",
       "    </tr>\n",
       "    <tr>\n",
       "      <th>3</th>\n",
       "      <td>2017-01-04</td>\n",
       "      <td>0.00</td>\n",
       "      <td>70</td>\n",
       "    </tr>\n",
       "    <tr>\n",
       "      <th>4</th>\n",
       "      <td>2017-01-05</td>\n",
       "      <td>0.00</td>\n",
       "      <td>74</td>\n",
       "    </tr>\n",
       "  </tbody>\n",
       "</table>\n",
       "</div>"
      ],
      "text/plain": [
       "         DATE  PRCP  TAVG\n",
       "0  2017-01-01  0.00    71\n",
       "1  2017-01-02  0.00    75\n",
       "2  2017-01-03  0.00    71\n",
       "3  2017-01-04  0.00    70\n",
       "4  2017-01-05  0.00    74"
      ]
     },
     "execution_count": 17,
     "metadata": {},
     "output_type": "execute_result"
    }
   ],
   "source": [
    "#Se añade datos de condiciones climáticas, ya que pueden afectar la programación del vuelo según Goodman and Small (2019). https://journals.ametsoc.org/view/journals/apme/58/3/jamc-d-17-0277.1.xml\n",
    "#Fuente: https://www.ncei.noaa.gov/ \n",
    "weather_data = pd.read_csv('weather_data.csv', )[['DATE','PRCP','TAVG']]\n",
    "weather_data['TAVG'] = weather_data.TAVG.ffill()\n",
    "weather_data['PRCP'] = weather_data.PRCP.fillna(0)\n",
    "weather_data.head()"
   ]
  },
  {
   "cell_type": "code",
   "execution_count": 18,
   "metadata": {},
   "outputs": [
    {
     "data": {
      "text/html": [
       "<div>\n",
       "<style scoped>\n",
       "    .dataframe tbody tr th:only-of-type {\n",
       "        vertical-align: middle;\n",
       "    }\n",
       "\n",
       "    .dataframe tbody tr th {\n",
       "        vertical-align: top;\n",
       "    }\n",
       "\n",
       "    .dataframe thead th {\n",
       "        text-align: right;\n",
       "    }\n",
       "</style>\n",
       "<table border=\"1\" class=\"dataframe\">\n",
       "  <thead>\n",
       "    <tr style=\"text-align: right;\">\n",
       "      <th></th>\n",
       "      <th>Fecha-I</th>\n",
       "      <th>Vlo-I</th>\n",
       "      <th>Ori-I</th>\n",
       "      <th>Des-I</th>\n",
       "      <th>Emp-I</th>\n",
       "      <th>Fecha-O</th>\n",
       "      <th>Vlo-O</th>\n",
       "      <th>Ori-O</th>\n",
       "      <th>Des-O</th>\n",
       "      <th>Emp-O</th>\n",
       "      <th>...</th>\n",
       "      <th>OPERA</th>\n",
       "      <th>SIGLAORI</th>\n",
       "      <th>SIGLADES</th>\n",
       "      <th>temporada_alta</th>\n",
       "      <th>dif_min</th>\n",
       "      <th>atraso_15</th>\n",
       "      <th>periodo_dia</th>\n",
       "      <th>DATE</th>\n",
       "      <th>PRCP</th>\n",
       "      <th>TAVG</th>\n",
       "    </tr>\n",
       "  </thead>\n",
       "  <tbody>\n",
       "    <tr>\n",
       "      <th>0</th>\n",
       "      <td>2017-01-01 23:30:00</td>\n",
       "      <td>226</td>\n",
       "      <td>SCEL</td>\n",
       "      <td>KMIA</td>\n",
       "      <td>AAL</td>\n",
       "      <td>2017-01-01 23:33:00</td>\n",
       "      <td>226</td>\n",
       "      <td>SCEL</td>\n",
       "      <td>KMIA</td>\n",
       "      <td>AAL</td>\n",
       "      <td>...</td>\n",
       "      <td>American Airlines</td>\n",
       "      <td>Santiago</td>\n",
       "      <td>Miami</td>\n",
       "      <td>0</td>\n",
       "      <td>3.00</td>\n",
       "      <td>0</td>\n",
       "      <td>noche</td>\n",
       "      <td>2017-01-01</td>\n",
       "      <td>0.00</td>\n",
       "      <td>71</td>\n",
       "    </tr>\n",
       "    <tr>\n",
       "      <th>1</th>\n",
       "      <td>2017-01-02 23:30:00</td>\n",
       "      <td>226</td>\n",
       "      <td>SCEL</td>\n",
       "      <td>KMIA</td>\n",
       "      <td>AAL</td>\n",
       "      <td>2017-01-02 23:39:00</td>\n",
       "      <td>226</td>\n",
       "      <td>SCEL</td>\n",
       "      <td>KMIA</td>\n",
       "      <td>AAL</td>\n",
       "      <td>...</td>\n",
       "      <td>American Airlines</td>\n",
       "      <td>Santiago</td>\n",
       "      <td>Miami</td>\n",
       "      <td>0</td>\n",
       "      <td>9.00</td>\n",
       "      <td>0</td>\n",
       "      <td>noche</td>\n",
       "      <td>2017-01-02</td>\n",
       "      <td>0.00</td>\n",
       "      <td>75</td>\n",
       "    </tr>\n",
       "    <tr>\n",
       "      <th>2</th>\n",
       "      <td>2017-01-03 23:30:00</td>\n",
       "      <td>226</td>\n",
       "      <td>SCEL</td>\n",
       "      <td>KMIA</td>\n",
       "      <td>AAL</td>\n",
       "      <td>2017-01-03 23:39:00</td>\n",
       "      <td>226</td>\n",
       "      <td>SCEL</td>\n",
       "      <td>KMIA</td>\n",
       "      <td>AAL</td>\n",
       "      <td>...</td>\n",
       "      <td>American Airlines</td>\n",
       "      <td>Santiago</td>\n",
       "      <td>Miami</td>\n",
       "      <td>0</td>\n",
       "      <td>9.00</td>\n",
       "      <td>0</td>\n",
       "      <td>noche</td>\n",
       "      <td>2017-01-03</td>\n",
       "      <td>0.00</td>\n",
       "      <td>71</td>\n",
       "    </tr>\n",
       "    <tr>\n",
       "      <th>3</th>\n",
       "      <td>2017-01-04 23:30:00</td>\n",
       "      <td>226</td>\n",
       "      <td>SCEL</td>\n",
       "      <td>KMIA</td>\n",
       "      <td>AAL</td>\n",
       "      <td>2017-01-04 23:33:00</td>\n",
       "      <td>226</td>\n",
       "      <td>SCEL</td>\n",
       "      <td>KMIA</td>\n",
       "      <td>AAL</td>\n",
       "      <td>...</td>\n",
       "      <td>American Airlines</td>\n",
       "      <td>Santiago</td>\n",
       "      <td>Miami</td>\n",
       "      <td>0</td>\n",
       "      <td>3.00</td>\n",
       "      <td>0</td>\n",
       "      <td>noche</td>\n",
       "      <td>2017-01-04</td>\n",
       "      <td>0.00</td>\n",
       "      <td>70</td>\n",
       "    </tr>\n",
       "    <tr>\n",
       "      <th>4</th>\n",
       "      <td>2017-01-05 23:30:00</td>\n",
       "      <td>226</td>\n",
       "      <td>SCEL</td>\n",
       "      <td>KMIA</td>\n",
       "      <td>AAL</td>\n",
       "      <td>2017-01-05 23:28:00</td>\n",
       "      <td>226</td>\n",
       "      <td>SCEL</td>\n",
       "      <td>KMIA</td>\n",
       "      <td>AAL</td>\n",
       "      <td>...</td>\n",
       "      <td>American Airlines</td>\n",
       "      <td>Santiago</td>\n",
       "      <td>Miami</td>\n",
       "      <td>0</td>\n",
       "      <td>-2.00</td>\n",
       "      <td>0</td>\n",
       "      <td>noche</td>\n",
       "      <td>2017-01-05</td>\n",
       "      <td>0.00</td>\n",
       "      <td>74</td>\n",
       "    </tr>\n",
       "  </tbody>\n",
       "</table>\n",
       "<p>5 rows × 25 columns</p>\n",
       "</div>"
      ],
      "text/plain": [
       "              Fecha-I Vlo-I Ori-I Des-I Emp-I             Fecha-O Vlo-O Ori-O  \\\n",
       "0 2017-01-01 23:30:00   226  SCEL  KMIA   AAL 2017-01-01 23:33:00   226  SCEL   \n",
       "1 2017-01-02 23:30:00   226  SCEL  KMIA   AAL 2017-01-02 23:39:00   226  SCEL   \n",
       "2 2017-01-03 23:30:00   226  SCEL  KMIA   AAL 2017-01-03 23:39:00   226  SCEL   \n",
       "3 2017-01-04 23:30:00   226  SCEL  KMIA   AAL 2017-01-04 23:33:00   226  SCEL   \n",
       "4 2017-01-05 23:30:00   226  SCEL  KMIA   AAL 2017-01-05 23:28:00   226  SCEL   \n",
       "\n",
       "  Des-O Emp-O  ...              OPERA  SIGLAORI  SIGLADES temporada_alta  \\\n",
       "0  KMIA   AAL  ...  American Airlines  Santiago     Miami              0   \n",
       "1  KMIA   AAL  ...  American Airlines  Santiago     Miami              0   \n",
       "2  KMIA   AAL  ...  American Airlines  Santiago     Miami              0   \n",
       "3  KMIA   AAL  ...  American Airlines  Santiago     Miami              0   \n",
       "4  KMIA   AAL  ...  American Airlines  Santiago     Miami              0   \n",
       "\n",
       "  dif_min atraso_15 periodo_dia        DATE  PRCP  TAVG  \n",
       "0    3.00         0       noche  2017-01-01  0.00    71  \n",
       "1    9.00         0       noche  2017-01-02  0.00    75  \n",
       "2    9.00         0       noche  2017-01-03  0.00    71  \n",
       "3    3.00         0       noche  2017-01-04  0.00    70  \n",
       "4   -2.00         0       noche  2017-01-05  0.00    74  \n",
       "\n",
       "[5 rows x 25 columns]"
      ]
     },
     "execution_count": 18,
     "metadata": {},
     "output_type": "execute_result"
    }
   ],
   "source": [
    "df['DATE'] = df['Fecha-I'].apply(lambda x: x.date()).astype(str)\n",
    "df = df.merge(weather_data,on='DATE',how='left')\n",
    "df.head()"
   ]
  },
  {
   "cell_type": "code",
   "execution_count": 19,
   "metadata": {},
   "outputs": [],
   "source": [
    "#Se agregan más variables en relación a si lo programado/planificado, coincide con lo operado/implementado.\n",
    "\n",
    "df['coincide_vuelo'] = 1*(df['Vlo-I']==df['Vlo-O'])\n",
    "df['coincide_destino'] = 1*(df['Des-I']==df['Des-O'])\n",
    "df['coincide_aerolinea'] =1*(df['Emp-I']==df['Emp-O'])"
   ]
  },
  {
   "cell_type": "code",
   "execution_count": 20,
   "metadata": {},
   "outputs": [
    {
     "data": {
      "text/plain": [
       "Index(['Fecha-I', 'Vlo-I', 'Ori-I', 'Des-I', 'Emp-I', 'Fecha-O', 'Vlo-O',\n",
       "       'Ori-O', 'Des-O', 'Emp-O', 'DIA', 'MES', 'AÑO', 'DIANOM', 'TIPOVUELO',\n",
       "       'OPERA', 'SIGLAORI', 'SIGLADES', 'temporada_alta', 'dif_min',\n",
       "       'atraso_15', 'periodo_dia', 'DATE', 'PRCP', 'TAVG', 'coincide_vuelo',\n",
       "       'coincide_destino', 'coincide_aerolinea'],\n",
       "      dtype='object')"
      ]
     },
     "execution_count": 20,
     "metadata": {},
     "output_type": "execute_result"
    }
   ],
   "source": [
    "df.columns"
   ]
  },
  {
   "cell_type": "code",
   "execution_count": 81,
   "metadata": {},
   "outputs": [
    {
     "data": {
      "text/html": [
       "<div>\n",
       "<style scoped>\n",
       "    .dataframe tbody tr th:only-of-type {\n",
       "        vertical-align: middle;\n",
       "    }\n",
       "\n",
       "    .dataframe tbody tr th {\n",
       "        vertical-align: top;\n",
       "    }\n",
       "\n",
       "    .dataframe thead th {\n",
       "        text-align: right;\n",
       "    }\n",
       "</style>\n",
       "<table border=\"1\" class=\"dataframe\">\n",
       "  <thead>\n",
       "    <tr style=\"text-align: right;\">\n",
       "      <th></th>\n",
       "      <th>ROC_AUC</th>\n",
       "      <th>ACC</th>\n",
       "      <th>Precision</th>\n",
       "      <th>Recall</th>\n",
       "      <th>F1_score</th>\n",
       "    </tr>\n",
       "  </thead>\n",
       "  <tbody>\n",
       "    <tr>\n",
       "      <th>Logistic_Regression</th>\n",
       "      <td>0.51</td>\n",
       "      <td>0.82</td>\n",
       "      <td>0.54</td>\n",
       "      <td>0.04</td>\n",
       "      <td>0.07</td>\n",
       "    </tr>\n",
       "  </tbody>\n",
       "</table>\n",
       "</div>"
      ],
      "text/plain": [
       "                     ROC_AUC  ACC  Precision  Recall  F1_score\n",
       "Logistic_Regression     0.51 0.82       0.54    0.04      0.07"
      ]
     },
     "execution_count": 81,
     "metadata": {},
     "output_type": "execute_result"
    }
   ],
   "source": [
    "exogs = ['DIANOM','TIPOVUELO','OPERA','SIGLADES','temporada_alta','periodo_dia',\n",
    "         'PRCP','TAVG','coincide_vuelo','coincide_destino','coincide_aerolinea']\n",
    "\n",
    "\n",
    "one_hot_columns = ['DIANOM','TIPOVUELO','OPERA','SIGLADES','periodo_dia']\n",
    "\n",
    "df_ = one_hot(df,one_hot_columns)\n",
    "\n",
    "exogs_one_hot = list(set(exogs).difference(set(one_hot_columns))) + list(df_.columns.difference(df.columns))\n",
    "X=df_[exogs_one_hot]\n",
    "y=df.atraso_15\n",
    "\n",
    "# split into train/test sets\n",
    "trainX, testX, trainy, testy = train_test_split(X, y, test_size=0.25, random_state=seed)\n",
    "\n",
    "model = LogisticRegression(solver='lbfgs',max_iter=5000)\n",
    "model.fit(trainX, trainy)\n",
    "\n",
    "yhat = model.predict(testX)\n",
    "# prob_positive = yhat[:,1]\n",
    "roc_auc = roc_auc_score(testy,yhat)\n",
    "accuracy = accuracy_score(testy,yhat)\n",
    "precision = precision_score(testy,yhat)\n",
    "recall = recall_score(testy,yhat)\n",
    "f1score = f1_score(testy,yhat)\n",
    "lr_metrics = pd.DataFrame({'ROC_AUC':roc_auc,'ACC':accuracy,'Precision':precision,'Recall':recall,'F1_score':f1score},index=['Logistic_Regression'])\n",
    "lr_metrics"
   ]
  },
  {
   "cell_type": "code",
   "execution_count": 84,
   "metadata": {},
   "outputs": [
    {
     "data": {
      "text/html": [
       "<div>\n",
       "<style scoped>\n",
       "    .dataframe tbody tr th:only-of-type {\n",
       "        vertical-align: middle;\n",
       "    }\n",
       "\n",
       "    .dataframe tbody tr th {\n",
       "        vertical-align: top;\n",
       "    }\n",
       "\n",
       "    .dataframe thead th {\n",
       "        text-align: right;\n",
       "    }\n",
       "</style>\n",
       "<table border=\"1\" class=\"dataframe\">\n",
       "  <thead>\n",
       "    <tr style=\"text-align: right;\">\n",
       "      <th></th>\n",
       "      <th>ROC_AUC</th>\n",
       "      <th>ACC</th>\n",
       "      <th>Precision</th>\n",
       "      <th>Recall</th>\n",
       "      <th>F1_score</th>\n",
       "    </tr>\n",
       "  </thead>\n",
       "  <tbody>\n",
       "    <tr>\n",
       "      <th>SVC</th>\n",
       "      <td>0.56</td>\n",
       "      <td>0.82</td>\n",
       "      <td>0.65</td>\n",
       "      <td>0.01</td>\n",
       "      <td>0.07</td>\n",
       "    </tr>\n",
       "  </tbody>\n",
       "</table>\n",
       "</div>"
      ],
      "text/plain": [
       "     ROC_AUC  ACC  Precision  Recall  F1_score\n",
       "SVC     0.56 0.82       0.65    0.01      0.07"
      ]
     },
     "execution_count": 84,
     "metadata": {},
     "output_type": "execute_result"
    }
   ],
   "source": [
    "exogs = ['DIANOM','TIPOVUELO','OPERA','SIGLADES','temporada_alta','periodo_dia',\n",
    "         'PRCP','TAVG','coincide_vuelo','coincide_destino','coincide_aerolinea']\n",
    "\n",
    "\n",
    "one_hot_columns = ['DIANOM','TIPOVUELO','OPERA','SIGLADES','periodo_dia']\n",
    "\n",
    "df_ = one_hot(df,one_hot_columns)\n",
    "\n",
    "exogs_one_hot = list(set(exogs).difference(set(one_hot_columns))) + list(df_.columns.difference(df.columns))\n",
    "X=df_[exogs_one_hot]\n",
    "y=df.atraso_15\n",
    "\n",
    "# split into train/test sets\n",
    "trainX, testX, trainy, testy = train_test_split(X, y, test_size=0.25, random_state=seed)\n",
    "\n",
    "model = LinearSVC()\n",
    "model.fit(trainX, trainy)\n",
    "\n",
    "yhat = model.predict(testX)\n",
    "roc_auc = roc_auc_score(testy,y_hat)\n",
    "accuracy = accuracy_score(testy,yhat)\n",
    "precision = precision_score(testy,yhat)\n",
    "recall = recall_score(testy,yhat)\n",
    "f1score_ = f1_score(testy,yhat)\n",
    "\n",
    "svc_metrics = pd.DataFrame({'ROC_AUC':roc_auc,'ACC':accuracy,'Precision':precision,'Recall':recall,'F1_score':f1score},index=['SVC'])\n",
    "svc_metrics"
   ]
  },
  {
   "cell_type": "code",
   "execution_count": 85,
   "metadata": {},
   "outputs": [
    {
     "data": {
      "text/html": [
       "<div>\n",
       "<style scoped>\n",
       "    .dataframe tbody tr th:only-of-type {\n",
       "        vertical-align: middle;\n",
       "    }\n",
       "\n",
       "    .dataframe tbody tr th {\n",
       "        vertical-align: top;\n",
       "    }\n",
       "\n",
       "    .dataframe thead th {\n",
       "        text-align: right;\n",
       "    }\n",
       "</style>\n",
       "<table border=\"1\" class=\"dataframe\">\n",
       "  <thead>\n",
       "    <tr style=\"text-align: right;\">\n",
       "      <th></th>\n",
       "      <th>ROC_AUC</th>\n",
       "      <th>ACC</th>\n",
       "      <th>Precision</th>\n",
       "      <th>Recall</th>\n",
       "      <th>F1_score</th>\n",
       "    </tr>\n",
       "  </thead>\n",
       "  <tbody>\n",
       "    <tr>\n",
       "      <th>XGB</th>\n",
       "      <td>0.56</td>\n",
       "      <td>0.82</td>\n",
       "      <td>0.65</td>\n",
       "      <td>0.01</td>\n",
       "      <td>0.07</td>\n",
       "    </tr>\n",
       "  </tbody>\n",
       "</table>\n",
       "</div>"
      ],
      "text/plain": [
       "     ROC_AUC  ACC  Precision  Recall  F1_score\n",
       "XGB     0.56 0.82       0.65    0.01      0.07"
      ]
     },
     "execution_count": 85,
     "metadata": {},
     "output_type": "execute_result"
    }
   ],
   "source": [
    "exogs = ['DIANOM','TIPOVUELO','OPERA','SIGLADES','temporada_alta','periodo_dia',\n",
    "         'PRCP','TAVG','coincide_vuelo','coincide_destino','coincide_aerolinea']\n",
    "datetypes = ['category','category','category','category',int,'category',\n",
    "         float,float,int,int,int]\n",
    "\n",
    "df = df.astype(dict(zip(exogs,datetypes)))\n",
    "X=df[exogs]\n",
    "y=df.atraso_15\n",
    "\n",
    "trainX, testX, trainy, testy = train_test_split(X, y, test_size=0.25, random_state=seed)\n",
    "\n",
    "model = xgb.XGBClassifier(tree_method=\"hist\",enable_categorical=True)\n",
    "model.fit(trainX,trainy)\n",
    "\n",
    "y_hat = model.predict(testX)\n",
    "roc_auc = roc_auc_score(testy,y_hat)\n",
    "accuracy = accuracy_score(testy,yhat)\n",
    "precision = precision_score(testy,yhat)\n",
    "recall = recall_score(testy,yhat)\n",
    "f1score_ = f1_score(testy,yhat)\n",
    "\n",
    "xgb_metrics = pd.DataFrame({'ROC_AUC':roc_auc,'ACC':accuracy,'Precision':precision,'Recall':recall,'F1_score':f1score},index=['XGB'])\n",
    "xgb_metrics"
   ]
  },
  {
   "cell_type": "code",
   "execution_count": 43,
   "metadata": {},
   "outputs": [],
   "source": [
    "# clf = LazyClassifier(verbose=0,ignore_warnings=True, custom_metric=None)\n",
    "# models,predictions = clf.fit(trainX, testX, trainy, testy)\n",
    "# models"
   ]
  },
  {
   "attachments": {},
   "cell_type": "markdown",
   "metadata": {},
   "source": [
    "### 5. Evalúa tu modelo. ¿Qué performance tiene? ¿Qué métricas usaste para evaluar esa performance y por qué? ¿Por qué elegiste ese algoritmo en particular? ¿Qué variables son las que más influyen en la predicción? ¿Cómo podrías mejorar la performance?"
   ]
  },
  {
   "cell_type": "markdown",
   "metadata": {},
   "source": []
  }
 ],
 "metadata": {
  "kernelspec": {
   "display_name": "untitled",
   "language": "python",
   "name": "python3"
  },
  "language_info": {
   "codemirror_mode": {
    "name": "ipython",
    "version": 3
   },
   "file_extension": ".py",
   "mimetype": "text/x-python",
   "name": "python",
   "nbconvert_exporter": "python",
   "pygments_lexer": "ipython3",
   "version": "3.7.4"
  },
  "orig_nbformat": 4
 },
 "nbformat": 4,
 "nbformat_minor": 2
}
