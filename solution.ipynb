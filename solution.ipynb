{
 "cells": [
  {
   "cell_type": "code",
   "execution_count": 60,
   "metadata": {},
   "outputs": [
    {
     "name": "stdout",
     "output_type": "stream",
     "text": [
      "Requirement already satisfied: pandas==1.3.3 in c:\\programdata\\anaconda3\\lib\\site-packages (from -r requirements.txt (line 1)) (1.3.3)\n",
      "Requirement already satisfied: numpy==1.21.2 in c:\\programdata\\anaconda3\\lib\\site-packages (from -r requirements.txt (line 2)) (1.21.2)\n",
      "Requirement already satisfied: xgboost==1.6.2 in c:\\programdata\\anaconda3\\lib\\site-packages (from -r requirements.txt (line 3)) (1.6.2)\n",
      "Requirement already satisfied: seaborn==0.11.2 in c:\\programdata\\anaconda3\\lib\\site-packages (from -r requirements.txt (line 4)) (0.11.2)\n",
      "Requirement already satisfied: python-dateutil>=2.7.3 in c:\\programdata\\anaconda3\\lib\\site-packages (from pandas==1.3.3->-r requirements.txt (line 1)) (2.8.2)\n",
      "Requirement already satisfied: pytz>=2017.3 in c:\\programdata\\anaconda3\\lib\\site-packages (from pandas==1.3.3->-r requirements.txt (line 1)) (2021.3)\n",
      "Requirement already satisfied: scipy in c:\\programdata\\anaconda3\\lib\\site-packages (from xgboost==1.6.2->-r requirements.txt (line 3)) (1.7.1)"
     ]
    },
    {
     "name": "stderr",
     "output_type": "stream",
     "text": [
      "WARNING: Ignoring invalid distribution -eaborn (c:\\programdata\\anaconda3\\lib\\site-packages)\n",
      "WARNING: Ignoring invalid distribution -eaborn (c:\\programdata\\anaconda3\\lib\\site-packages)\n",
      "WARNING: Ignoring invalid distribution -eaborn (c:\\programdata\\anaconda3\\lib\\site-packages)\n",
      "WARNING: Ignoring invalid distribution -eaborn (c:\\programdata\\anaconda3\\lib\\site-packages)\n",
      "WARNING: Ignoring invalid distribution -eaborn (c:\\programdata\\anaconda3\\lib\\site-packages)\n",
      "WARNING: Ignoring invalid distribution -eaborn (c:\\programdata\\anaconda3\\lib\\site-packages)\n"
     ]
    },
    {
     "name": "stdout",
     "output_type": "stream",
     "text": [
      "\n",
      "Requirement already satisfied: matplotlib>=2.2 in c:\\programdata\\anaconda3\\lib\\site-packages (from seaborn==0.11.2->-r requirements.txt (line 4)) (3.4.3)\n",
      "Requirement already satisfied: kiwisolver>=1.0.1 in c:\\programdata\\anaconda3\\lib\\site-packages (from matplotlib>=2.2->seaborn==0.11.2->-r requirements.txt (line 4)) (1.3.1)\n",
      "Requirement already satisfied: pillow>=6.2.0 in c:\\programdata\\anaconda3\\lib\\site-packages (from matplotlib>=2.2->seaborn==0.11.2->-r requirements.txt (line 4)) (8.4.0)\n",
      "Requirement already satisfied: pyparsing>=2.2.1 in c:\\programdata\\anaconda3\\lib\\site-packages (from matplotlib>=2.2->seaborn==0.11.2->-r requirements.txt (line 4)) (2.4.7)\n",
      "Requirement already satisfied: cycler>=0.10 in c:\\programdata\\anaconda3\\lib\\site-packages (from matplotlib>=2.2->seaborn==0.11.2->-r requirements.txt (line 4)) (0.10.0)\n",
      "Requirement already satisfied: six in c:\\programdata\\anaconda3\\lib\\site-packages (from cycler>=0.10->matplotlib>=2.2->seaborn==0.11.2->-r requirements.txt (line 4)) (1.16.0)\n"
     ]
    }
   ],
   "source": [
    "#Ejecutar esta linea de comando para verificar que la versión de las librerías correspondan a los resultados expuestos en este notebook\n",
    "\n",
    "!pip install -r requirements.txt"
   ]
  },
  {
   "cell_type": "code",
   "execution_count": 67,
   "metadata": {},
   "outputs": [],
   "source": [
    "import pandas as pd\n",
    "import numpy as np\n",
    "import seaborn as sns\n",
    "import matplotlib.pyplot as plt\n",
    "from datetime import datetime,date,timedelta\n",
    "\n",
    "\n",
    "seed = 1234\n",
    "\n",
    "np.random.seed(seed)"
   ]
  },
  {
   "cell_type": "code",
   "execution_count": 11,
   "metadata": {},
   "outputs": [],
   "source": [
    "def get_data(filename):\n",
    "    \"\"\"Get data from the challenge csv file.\n",
    "\n",
    "    Args:\n",
    "        filename (str): location of the file\n",
    "    \"\"\"\n",
    "    data = pd.read_csv(filename,infer_datetime_format=True,low_memory=False)\n",
    "    data['Fecha-I'] = pd.to_datetime(data['Fecha-I'])\n",
    "    data['Fecha-O'] = pd.to_datetime(data['Fecha-O'])\n",
    "\n",
    "    return data"
   ]
  },
  {
   "cell_type": "code",
   "execution_count": 12,
   "metadata": {},
   "outputs": [
    {
     "data": {
      "text/html": [
       "<div>\n",
       "<style scoped>\n",
       "    .dataframe tbody tr th:only-of-type {\n",
       "        vertical-align: middle;\n",
       "    }\n",
       "\n",
       "    .dataframe tbody tr th {\n",
       "        vertical-align: top;\n",
       "    }\n",
       "\n",
       "    .dataframe thead th {\n",
       "        text-align: right;\n",
       "    }\n",
       "</style>\n",
       "<table border=\"1\" class=\"dataframe\">\n",
       "  <thead>\n",
       "    <tr style=\"text-align: right;\">\n",
       "      <th></th>\n",
       "      <th>Fecha-I</th>\n",
       "      <th>Vlo-I</th>\n",
       "      <th>Ori-I</th>\n",
       "      <th>Des-I</th>\n",
       "      <th>Emp-I</th>\n",
       "      <th>Fecha-O</th>\n",
       "      <th>Vlo-O</th>\n",
       "      <th>Ori-O</th>\n",
       "      <th>Des-O</th>\n",
       "      <th>Emp-O</th>\n",
       "      <th>DIA</th>\n",
       "      <th>MES</th>\n",
       "      <th>AÑO</th>\n",
       "      <th>DIANOM</th>\n",
       "      <th>TIPOVUELO</th>\n",
       "      <th>OPERA</th>\n",
       "      <th>SIGLAORI</th>\n",
       "      <th>SIGLADES</th>\n",
       "    </tr>\n",
       "  </thead>\n",
       "  <tbody>\n",
       "    <tr>\n",
       "      <th>0</th>\n",
       "      <td>2017-01-01 23:30:00</td>\n",
       "      <td>226</td>\n",
       "      <td>SCEL</td>\n",
       "      <td>KMIA</td>\n",
       "      <td>AAL</td>\n",
       "      <td>2017-01-01 23:33:00</td>\n",
       "      <td>226</td>\n",
       "      <td>SCEL</td>\n",
       "      <td>KMIA</td>\n",
       "      <td>AAL</td>\n",
       "      <td>1</td>\n",
       "      <td>1</td>\n",
       "      <td>2017</td>\n",
       "      <td>Domingo</td>\n",
       "      <td>I</td>\n",
       "      <td>American Airlines</td>\n",
       "      <td>Santiago</td>\n",
       "      <td>Miami</td>\n",
       "    </tr>\n",
       "    <tr>\n",
       "      <th>1</th>\n",
       "      <td>2017-01-02 23:30:00</td>\n",
       "      <td>226</td>\n",
       "      <td>SCEL</td>\n",
       "      <td>KMIA</td>\n",
       "      <td>AAL</td>\n",
       "      <td>2017-01-02 23:39:00</td>\n",
       "      <td>226</td>\n",
       "      <td>SCEL</td>\n",
       "      <td>KMIA</td>\n",
       "      <td>AAL</td>\n",
       "      <td>2</td>\n",
       "      <td>1</td>\n",
       "      <td>2017</td>\n",
       "      <td>Lunes</td>\n",
       "      <td>I</td>\n",
       "      <td>American Airlines</td>\n",
       "      <td>Santiago</td>\n",
       "      <td>Miami</td>\n",
       "    </tr>\n",
       "    <tr>\n",
       "      <th>2</th>\n",
       "      <td>2017-01-03 23:30:00</td>\n",
       "      <td>226</td>\n",
       "      <td>SCEL</td>\n",
       "      <td>KMIA</td>\n",
       "      <td>AAL</td>\n",
       "      <td>2017-01-03 23:39:00</td>\n",
       "      <td>226</td>\n",
       "      <td>SCEL</td>\n",
       "      <td>KMIA</td>\n",
       "      <td>AAL</td>\n",
       "      <td>3</td>\n",
       "      <td>1</td>\n",
       "      <td>2017</td>\n",
       "      <td>Martes</td>\n",
       "      <td>I</td>\n",
       "      <td>American Airlines</td>\n",
       "      <td>Santiago</td>\n",
       "      <td>Miami</td>\n",
       "    </tr>\n",
       "    <tr>\n",
       "      <th>3</th>\n",
       "      <td>2017-01-04 23:30:00</td>\n",
       "      <td>226</td>\n",
       "      <td>SCEL</td>\n",
       "      <td>KMIA</td>\n",
       "      <td>AAL</td>\n",
       "      <td>2017-01-04 23:33:00</td>\n",
       "      <td>226</td>\n",
       "      <td>SCEL</td>\n",
       "      <td>KMIA</td>\n",
       "      <td>AAL</td>\n",
       "      <td>4</td>\n",
       "      <td>1</td>\n",
       "      <td>2017</td>\n",
       "      <td>Miercoles</td>\n",
       "      <td>I</td>\n",
       "      <td>American Airlines</td>\n",
       "      <td>Santiago</td>\n",
       "      <td>Miami</td>\n",
       "    </tr>\n",
       "    <tr>\n",
       "      <th>4</th>\n",
       "      <td>2017-01-05 23:30:00</td>\n",
       "      <td>226</td>\n",
       "      <td>SCEL</td>\n",
       "      <td>KMIA</td>\n",
       "      <td>AAL</td>\n",
       "      <td>2017-01-05 23:28:00</td>\n",
       "      <td>226</td>\n",
       "      <td>SCEL</td>\n",
       "      <td>KMIA</td>\n",
       "      <td>AAL</td>\n",
       "      <td>5</td>\n",
       "      <td>1</td>\n",
       "      <td>2017</td>\n",
       "      <td>Jueves</td>\n",
       "      <td>I</td>\n",
       "      <td>American Airlines</td>\n",
       "      <td>Santiago</td>\n",
       "      <td>Miami</td>\n",
       "    </tr>\n",
       "  </tbody>\n",
       "</table>\n",
       "</div>"
      ],
      "text/plain": [
       "              Fecha-I Vlo-I Ori-I Des-I Emp-I             Fecha-O Vlo-O Ori-O  \\\n",
       "0 2017-01-01 23:30:00   226  SCEL  KMIA   AAL 2017-01-01 23:33:00   226  SCEL   \n",
       "1 2017-01-02 23:30:00   226  SCEL  KMIA   AAL 2017-01-02 23:39:00   226  SCEL   \n",
       "2 2017-01-03 23:30:00   226  SCEL  KMIA   AAL 2017-01-03 23:39:00   226  SCEL   \n",
       "3 2017-01-04 23:30:00   226  SCEL  KMIA   AAL 2017-01-04 23:33:00   226  SCEL   \n",
       "4 2017-01-05 23:30:00   226  SCEL  KMIA   AAL 2017-01-05 23:28:00   226  SCEL   \n",
       "\n",
       "  Des-O Emp-O  DIA  MES   AÑO     DIANOM TIPOVUELO              OPERA  \\\n",
       "0  KMIA   AAL    1    1  2017    Domingo         I  American Airlines   \n",
       "1  KMIA   AAL    2    1  2017      Lunes         I  American Airlines   \n",
       "2  KMIA   AAL    3    1  2017     Martes         I  American Airlines   \n",
       "3  KMIA   AAL    4    1  2017  Miercoles         I  American Airlines   \n",
       "4  KMIA   AAL    5    1  2017     Jueves         I  American Airlines   \n",
       "\n",
       "   SIGLAORI SIGLADES  \n",
       "0  Santiago    Miami  \n",
       "1  Santiago    Miami  \n",
       "2  Santiago    Miami  \n",
       "3  Santiago    Miami  \n",
       "4  Santiago    Miami  "
      ]
     },
     "execution_count": 12,
     "metadata": {},
     "output_type": "execute_result"
    }
   ],
   "source": [
    "df = get_data('dataset_SCL.csv')\n",
    "df.head()"
   ]
  },
  {
   "attachments": {},
   "cell_type": "markdown",
   "metadata": {},
   "source": [
    "## 1. ¿Cómo se distribuyen los datos? ¿Qué te llama la atención o cuál es tu conclusión sobre esto?"
   ]
  },
  {
   "cell_type": "code",
   "execution_count": 21,
   "metadata": {},
   "outputs": [
    {
     "data": {
      "text/plain": [
       "Fecha-I      53252\n",
       "Vlo-I          584\n",
       "Ori-I            1\n",
       "Des-I           64\n",
       "Emp-I           30\n",
       "Fecha-O      62774\n",
       "Vlo-O          861\n",
       "Ori-O            1\n",
       "Des-O           63\n",
       "Emp-O           32\n",
       "DIA             31\n",
       "MES             12\n",
       "AÑO              2\n",
       "DIANOM           7\n",
       "TIPOVUELO        2\n",
       "OPERA           23\n",
       "SIGLAORI         1\n",
       "SIGLADES        62\n",
       "dtype: int64"
      ]
     },
     "execution_count": 21,
     "metadata": {},
     "output_type": "execute_result"
    }
   ],
   "source": [
    "df.nunique()"
   ]
  },
  {
   "cell_type": "code",
   "execution_count": 50,
   "metadata": {},
   "outputs": [
    {
     "name": "stdout",
     "output_type": "stream",
     "text": [
      "DIANOM\n",
      "Domingo       9796\n",
      "Jueves       10251\n",
      "Lunes        10131\n",
      "Martes        9662\n",
      "Miercoles     9722\n",
      "Sabado        8352\n",
      "Viernes      10292\n",
      "Name: DIANOM, dtype: int64\n",
      "TIPOVUELO\n",
      "I    31240\n",
      "N    36966\n",
      "Name: TIPOVUELO, dtype: int64\n",
      "OPERA\n",
      "Grupo LATAM                 40892\n",
      "Sky Airline                 14298\n",
      "Aerolineas Argentinas        1949\n",
      "Copa Air                     1850\n",
      "Latin American Wings         1674\n",
      "Avianca                      1152\n",
      "JetSmart SPA                 1095\n",
      "Gol Trans                     806\n",
      "American Airlines             757\n",
      "Air Canada                    565\n",
      "Iberia                        362\n",
      "Delta Air                     358\n",
      "Air France                    358\n",
      "Aeromexico                    351\n",
      "United Airlines               335\n",
      "Oceanair Linhas Aereas        279\n",
      "Alitalia                      259\n",
      "K.L.M.                        251\n",
      "British Airways               205\n",
      "Qantas Airways                195\n",
      "Lacsa                          92\n",
      "Austral                        74\n",
      "Plus Ultra Lineas Aereas       49\n",
      "Name: OPERA, dtype: int64\n"
     ]
    }
   ],
   "source": [
    "print(df.groupby('DIANOM').DIANOM.count())\n",
    "print(df.groupby('TIPOVUELO').TIPOVUELO.count())"
   ]
  },
  {
   "cell_type": "code",
   "execution_count": 51,
   "metadata": {},
   "outputs": [
    {
     "name": "stdout",
     "output_type": "stream",
     "text": [
      "OPERA\n",
      "Grupo LATAM                 40892\n",
      "Sky Airline                 14298\n",
      "Aerolineas Argentinas        1949\n",
      "Copa Air                     1850\n",
      "Latin American Wings         1674\n",
      "Avianca                      1152\n",
      "JetSmart SPA                 1095\n",
      "Gol Trans                     806\n",
      "American Airlines             757\n",
      "Air Canada                    565\n",
      "Iberia                        362\n",
      "Delta Air                     358\n",
      "Air France                    358\n",
      "Aeromexico                    351\n",
      "United Airlines               335\n",
      "Oceanair Linhas Aereas        279\n",
      "Alitalia                      259\n",
      "K.L.M.                        251\n",
      "British Airways               205\n",
      "Qantas Airways                195\n",
      "Lacsa                          92\n",
      "Austral                        74\n",
      "Plus Ultra Lineas Aereas       49\n",
      "Name: OPERA, dtype: int64\n"
     ]
    }
   ],
   "source": [
    "print(df.groupby('OPERA').OPERA.count().sort_values(ascending=False))"
   ]
  },
  {
   "cell_type": "code",
   "execution_count": 45,
   "metadata": {},
   "outputs": [
    {
     "data": {
      "text/plain": [
       "<AxesSubplot:xlabel='DIANOM'>"
      ]
     },
     "execution_count": 45,
     "metadata": {},
     "output_type": "execute_result"
    },
    {
     "data": {
      "image/png": "[encoded data removed]",
      "text/plain": [
       "<Figure size 432x288 with 1 Axes>"
      ]
     },
     "metadata": {
      "needs_background": "light"
     },
     "output_type": "display_data"
    }
   ],
   "source": [
    "df.groupby(['TIPOVUELO','DIANOM']).count().iloc[:,0].unstack(level=0).plot(kind='bar')"
   ]
  },
  {
   "cell_type": "code",
   "execution_count": 77,
   "metadata": {},
   "outputs": [
    {
     "data": {
      "text/plain": [
       "<AxesSubplot:xlabel='OPERA'>"
      ]
     },
     "execution_count": 77,
     "metadata": {},
     "output_type": "execute_result"
    },
    {
     "data": {
      "image/png": "[encoded data removed]",
      "text/plain": [
       "<Figure size 432x288 with 1 Axes>"
      ]
     },
     "metadata": {
      "needs_background": "light"
     },
     "output_type": "display_data"
    }
   ],
   "source": [
    "df.groupby(['TIPOVUELO','OPERA']).count().iloc[:,0].unstack(level=0).sort_values(by='I',ascending=False).plot(kind='bar')"
   ]
  },
  {
   "cell_type": "code",
   "execution_count": 76,
   "metadata": {},
   "outputs": [
    {
     "data": {
      "text/plain": [
       "<AxesSubplot:xlabel='OPERA'>"
      ]
     },
     "execution_count": 76,
     "metadata": {},
     "output_type": "execute_result"
    },
    {
     "data": {
      "image/png": "[encoded data removed]",
      "text/plain": [
       "<Figure size 432x288 with 1 Axes>"
      ]
     },
     "metadata": {
      "needs_background": "light"
     },
     "output_type": "display_data"
    }
   ],
   "source": [
    "df.query(\"TIPOVUELO == 'N'\").groupby(['OPERA']).count().iloc[:,0].sort_values(ascending=False).plot(kind='bar')"
   ]
  },
  {
   "cell_type": "code",
   "execution_count": 49,
   "metadata": {},
   "outputs": [
    {
     "name": "stdout",
     "output_type": "stream",
     "text": [
      "OPERA\n",
      "Grupo LATAM                 40892\n",
      "Sky Airline                 14298\n",
      "Aerolineas Argentinas        1949\n",
      "Copa Air                     1850\n",
      "Latin American Wings         1674\n",
      "Avianca                      1152\n",
      "JetSmart SPA                 1095\n",
      "Gol Trans                     806\n",
      "American Airlines             757\n",
      "Air Canada                    565\n",
      "Iberia                        362\n",
      "Delta Air                     358\n",
      "Air France                    358\n",
      "Aeromexico                    351\n",
      "United Airlines               335\n",
      "Oceanair Linhas Aereas        279\n",
      "Alitalia                      259\n",
      "K.L.M.                        251\n",
      "British Airways               205\n",
      "Qantas Airways                195\n",
      "Lacsa                          92\n",
      "Austral                        74\n",
      "Plus Ultra Lineas Aereas       49\n",
      "Name: OPERA, dtype: int64\n"
     ]
    }
   ],
   "source": [
    "print(df.groupby('OPERA').OPERA.count().sort_values(ascending=False))"
   ]
  },
  {
   "cell_type": "code",
   "execution_count": 59,
   "metadata": {},
   "outputs": [
    {
     "data": {
      "text/html": [
       "<div>\n",
       "<style scoped>\n",
       "    .dataframe tbody tr th:only-of-type {\n",
       "        vertical-align: middle;\n",
       "    }\n",
       "\n",
       "    .dataframe tbody tr th {\n",
       "        vertical-align: top;\n",
       "    }\n",
       "\n",
       "    .dataframe thead th {\n",
       "        text-align: right;\n",
       "    }\n",
       "</style>\n",
       "<table border=\"1\" class=\"dataframe\">\n",
       "  <thead>\n",
       "    <tr style=\"text-align: right;\">\n",
       "      <th>TIPOVUELO</th>\n",
       "      <th>I</th>\n",
       "      <th>N</th>\n",
       "    </tr>\n",
       "    <tr>\n",
       "      <th>OPERA</th>\n",
       "      <th></th>\n",
       "      <th></th>\n",
       "    </tr>\n",
       "  </thead>\n",
       "  <tbody>\n",
       "    <tr>\n",
       "      <th>Aerolineas Argentinas</th>\n",
       "      <td>1949.0</td>\n",
       "      <td>NaN</td>\n",
       "    </tr>\n",
       "    <tr>\n",
       "      <th>Aeromexico</th>\n",
       "      <td>351.0</td>\n",
       "      <td>NaN</td>\n",
       "    </tr>\n",
       "    <tr>\n",
       "      <th>Air Canada</th>\n",
       "      <td>565.0</td>\n",
       "      <td>NaN</td>\n",
       "    </tr>\n",
       "    <tr>\n",
       "      <th>Air France</th>\n",
       "      <td>358.0</td>\n",
       "      <td>NaN</td>\n",
       "    </tr>\n",
       "    <tr>\n",
       "      <th>Alitalia</th>\n",
       "      <td>259.0</td>\n",
       "      <td>NaN</td>\n",
       "    </tr>\n",
       "    <tr>\n",
       "      <th>American Airlines</th>\n",
       "      <td>757.0</td>\n",
       "      <td>NaN</td>\n",
       "    </tr>\n",
       "    <tr>\n",
       "      <th>Austral</th>\n",
       "      <td>74.0</td>\n",
       "      <td>NaN</td>\n",
       "    </tr>\n",
       "    <tr>\n",
       "      <th>Avianca</th>\n",
       "      <td>1152.0</td>\n",
       "      <td>NaN</td>\n",
       "    </tr>\n",
       "    <tr>\n",
       "      <th>British Airways</th>\n",
       "      <td>205.0</td>\n",
       "      <td>NaN</td>\n",
       "    </tr>\n",
       "    <tr>\n",
       "      <th>Copa Air</th>\n",
       "      <td>1850.0</td>\n",
       "      <td>NaN</td>\n",
       "    </tr>\n",
       "    <tr>\n",
       "      <th>Delta Air</th>\n",
       "      <td>358.0</td>\n",
       "      <td>NaN</td>\n",
       "    </tr>\n",
       "    <tr>\n",
       "      <th>Gol Trans</th>\n",
       "      <td>806.0</td>\n",
       "      <td>NaN</td>\n",
       "    </tr>\n",
       "    <tr>\n",
       "      <th>Grupo LATAM</th>\n",
       "      <td>17149.0</td>\n",
       "      <td>23743.0</td>\n",
       "    </tr>\n",
       "    <tr>\n",
       "      <th>Iberia</th>\n",
       "      <td>362.0</td>\n",
       "      <td>NaN</td>\n",
       "    </tr>\n",
       "    <tr>\n",
       "      <th>JetSmart SPA</th>\n",
       "      <td>6.0</td>\n",
       "      <td>1089.0</td>\n",
       "    </tr>\n",
       "    <tr>\n",
       "      <th>K.L.M.</th>\n",
       "      <td>251.0</td>\n",
       "      <td>NaN</td>\n",
       "    </tr>\n",
       "    <tr>\n",
       "      <th>Lacsa</th>\n",
       "      <td>92.0</td>\n",
       "      <td>NaN</td>\n",
       "    </tr>\n",
       "    <tr>\n",
       "      <th>Latin American Wings</th>\n",
       "      <td>1038.0</td>\n",
       "      <td>636.0</td>\n",
       "    </tr>\n",
       "    <tr>\n",
       "      <th>Oceanair Linhas Aereas</th>\n",
       "      <td>279.0</td>\n",
       "      <td>NaN</td>\n",
       "    </tr>\n",
       "    <tr>\n",
       "      <th>Plus Ultra Lineas Aereas</th>\n",
       "      <td>49.0</td>\n",
       "      <td>NaN</td>\n",
       "    </tr>\n",
       "    <tr>\n",
       "      <th>Qantas Airways</th>\n",
       "      <td>195.0</td>\n",
       "      <td>NaN</td>\n",
       "    </tr>\n",
       "    <tr>\n",
       "      <th>Sky Airline</th>\n",
       "      <td>2800.0</td>\n",
       "      <td>11498.0</td>\n",
       "    </tr>\n",
       "    <tr>\n",
       "      <th>United Airlines</th>\n",
       "      <td>335.0</td>\n",
       "      <td>NaN</td>\n",
       "    </tr>\n",
       "  </tbody>\n",
       "</table>\n",
       "</div>"
      ],
      "text/plain": [
       "TIPOVUELO                       I        N\n",
       "OPERA                                     \n",
       "Aerolineas Argentinas      1949.0      NaN\n",
       "Aeromexico                  351.0      NaN\n",
       "Air Canada                  565.0      NaN\n",
       "Air France                  358.0      NaN\n",
       "Alitalia                    259.0      NaN\n",
       "American Airlines           757.0      NaN\n",
       "Austral                      74.0      NaN\n",
       "Avianca                    1152.0      NaN\n",
       "British Airways             205.0      NaN\n",
       "Copa Air                   1850.0      NaN\n",
       "Delta Air                   358.0      NaN\n",
       "Gol Trans                   806.0      NaN\n",
       "Grupo LATAM               17149.0  23743.0\n",
       "Iberia                      362.0      NaN\n",
       "JetSmart SPA                  6.0   1089.0\n",
       "K.L.M.                      251.0      NaN\n",
       "Lacsa                        92.0      NaN\n",
       "Latin American Wings       1038.0    636.0\n",
       "Oceanair Linhas Aereas      279.0      NaN\n",
       "Plus Ultra Lineas Aereas     49.0      NaN\n",
       "Qantas Airways              195.0      NaN\n",
       "Sky Airline                2800.0  11498.0\n",
       "United Airlines             335.0      NaN"
      ]
     },
     "execution_count": 59,
     "metadata": {},
     "output_type": "execute_result"
    }
   ],
   "source": [
    "df.groupby(['OPERA','TIPOVUELO']).OPERA.count().unstack(level=1)"
   ]
  },
  {
   "cell_type": "code",
   "execution_count": 75,
   "metadata": {},
   "outputs": [
    {
     "data": {
      "image/png": "[encoded data removed]",
      "text/plain": [
       "<Figure size 432x288 with 1 Axes>"
      ]
     },
     "metadata": {
      "needs_background": "light"
     },
     "output_type": "display_data"
    },
    {
     "data": {
      "image/png": "[encoded data removed]",
      "text/plain": [
       "<Figure size 432x288 with 1 Axes>"
      ]
     },
     "metadata": {
      "needs_background": "light"
     },
     "output_type": "display_data"
    }
   ],
   "source": [
    "df.query(\"TIPOVUELO == 'N'\").groupby('SIGLADES').count().iloc[:,0].sort_values(ascending=False).plot(kind='bar')\n",
    "plt.show()\n",
    "df.query(\"TIPOVUELO == 'I'\").groupby('SIGLADES').count().iloc[:,0].sort_values(ascending=False).plot(kind='bar')\n",
    "plt.show()"
   ]
  },
  {
   "attachments": {},
   "cell_type": "markdown",
   "metadata": {},
   "source": [
    "La gran mayoría de las variables presentadas en la base de datos son de tipo categóricas, salvo las relacionadas con la fecha, pero requieren alguna transformación para ser utilizadas en el análisis.\n",
    "\n",
    "Con respecto a estas variables se puede destacar que:\n",
    "\n",
    "Las clases de dia de la semana y tipo de vuelo están relativamente balanceadas, pero al aperturar los tipos de vuelo por aerolinea nos damos cuenta que hay sólo 4 aerolineas que operan vuelos de tipo nacional, mientras que las otras solo operan vuelos de tipo nacional. La aerolinea LATAM tiene la mayor presencia de vuelos en este aeropuerto, le sigue Sky, pero se nota que la clase está desbalanceada, para tener en cuenta.\n",
    "\n",
    "Todas los vuelos se realizan desde el mismo origen, por lo tanto, son sólo despegues. En el caso de los vuelos nacionales, aparecen mayoritariamente los destinos Antofagasta, Calama, Puerto Montt, Concepción e Iquique, mientras que en el caso de los vuelos internacionales se presentan con mayoría vuelos en latinoamerica como Buenos Aires, Lima, Sao Paulo, Ciudad de Panamá, Mendoza, Bogotá y Río de Janeiro."
   ]
  },
  {
   "cell_type": "code",
   "execution_count": null,
   "metadata": {},
   "outputs": [],
   "source": []
  }
 ],
 "metadata": {
  "kernelspec": {
   "display_name": "untitled",
   "language": "python",
   "name": "python3"
  },
  "language_info": {
   "codemirror_mode": {
    "name": "ipython",
    "version": 3
   },
   "file_extension": ".py",
   "mimetype": "text/x-python",
   "name": "python",
   "nbconvert_exporter": "python",
   "pygments_lexer": "ipython3",
   "version": "3.7.4"
  },
  "orig_nbformat": 4
 },
 "nbformat": 4,
 "nbformat_minor": 2
}
